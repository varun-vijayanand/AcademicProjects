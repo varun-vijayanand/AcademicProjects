{
 "cells": [
  {
   "cell_type": "markdown",
   "metadata": {
    "id": "LIEPKPHAFU2T"
   },
   "source": [
    "## We are using the Kaiming He weight initialization method since we are using the relu activation in the hidden layers and the Xavier initialization works better with tanH activation functions. \n"
   ]
  },
  {
   "cell_type": "markdown",
   "metadata": {
    "id": "0RR6JTbu4d3t"
   },
   "source": [
    "# With weight initialization"
   ]
  },
  {
   "cell_type": "markdown",
   "metadata": {
    "id": "qjDwMLro4d3t"
   },
   "source": [
    "## Imports"
   ]
  },
  {
   "cell_type": "code",
   "execution_count": 1,
   "metadata": {
    "id": "hy85P3wt4d3t"
   },
   "outputs": [],
   "source": [
    "import torch\n",
    "import numpy as np\n",
    "import matplotlib.pyplot as plt"
   ]
  },
  {
   "cell_type": "code",
   "execution_count": 2,
   "metadata": {
    "id": "EHBAuQBz4d3u"
   },
   "outputs": [],
   "source": [
    "# From local helper files\n",
    "from helper_evaluation import set_all_seeds, set_deterministic\n",
    "from helper_train import train_model\n",
    "from helper_plotting import plot_training_loss, plot_accuracy, show_examples\n",
    "from helper_dataset import get_dataloaders_mnist"
   ]
  },
  {
   "cell_type": "markdown",
   "metadata": {
    "id": "BF5Kqscz4d3u"
   },
   "source": [
    "## Settings and Dataset"
   ]
  },
  {
   "cell_type": "code",
   "execution_count": 3,
   "metadata": {
    "id": "T88bTOHq4d3u"
   },
   "outputs": [],
   "source": [
    "##########################\n",
    "### SETTINGS\n",
    "##########################\n",
    "\n",
    "RANDOM_SEED = 123\n",
    "BATCH_SIZE = 256\n",
    "NUM_HIDDEN_1 = 512\n",
    "NUM_HIDDEN_2 = 256\n",
    "NUM_HIDDEN_3 = 128\n",
    "NUM_HIDDEN_4 = 64\n",
    "NUM_EPOCHS = 30\n",
    "DEVICE = torch.device('cuda:0' if torch.cuda.is_available() else 'cpu')"
   ]
  },
  {
   "cell_type": "code",
   "execution_count": 4,
   "metadata": {
    "id": "Z0ip60b84d3v"
   },
   "outputs": [],
   "source": [
    "set_all_seeds(RANDOM_SEED)\n",
    "set_deterministic()"
   ]
  },
  {
   "cell_type": "code",
   "execution_count": 5,
   "metadata": {
    "colab": {
     "base_uri": "https://localhost:8080/"
    },
    "id": "KbDZoi9R4d3v",
    "outputId": "c93a0a36-144b-4138-b633-9b7d1b536c18"
   },
   "outputs": [
    {
     "name": "stdout",
     "output_type": "stream",
     "text": [
      "Image batch dimensions: torch.Size([256, 1, 28, 28])\n",
      "Image label dimensions: torch.Size([256])\n",
      "Class labels of 10 examples: tensor([4, 5, 8, 9, 9, 4, 9, 9, 3, 9])\n"
     ]
    }
   ],
   "source": [
    "##########################\n",
    "### MNIST DATASET\n",
    "##########################\n",
    "\n",
    "train_loader, valid_loader, test_loader = get_dataloaders_mnist(\n",
    "    batch_size=BATCH_SIZE,\n",
    "    validation_fraction=0.1)\n",
    "\n",
    "# Checking the dataset\n",
    "for images, labels in train_loader:  \n",
    "    print('Image batch dimensions:', images.shape)\n",
    "    print('Image label dimensions:', labels.shape)\n",
    "    print('Class labels of 10 examples:', labels[:10])\n",
    "    break"
   ]
  },
  {
   "cell_type": "markdown",
   "metadata": {
    "id": "1a24cghe4d3v"
   },
   "source": [
    "## Model"
   ]
  },
  {
   "cell_type": "code",
   "execution_count": 6,
   "metadata": {
    "id": "G2I8GN1Y4d3w"
   },
   "outputs": [],
   "source": [
    "class MultilayerPerceptron(torch.nn.Module):\n",
    "\n",
    "    def __init__(self, num_features, num_classes, \n",
    "                 num_hidden_1, num_hidden_2, num_hidden_3, num_hidden_4):\n",
    "        super().__init__()\n",
    "        \n",
    "        self.my_network = torch.nn.Sequential(\n",
    "            # 1st hidden layer\n",
    "            torch.nn.Flatten(),\n",
    "            torch.nn.Linear(num_features, num_hidden_1),\n",
    "            torch.nn.ReLU(),\n",
    "            # 2nd hidden layer\n",
    "            torch.nn.Linear(num_hidden_1, num_hidden_2),\n",
    "            torch.nn.ReLU(),\n",
    "            # 3rd hidden layer\n",
    "            torch.nn.Linear(num_hidden_2, num_hidden_3),\n",
    "            torch.nn.ReLU(),\n",
    "            # 4th hidden layer\n",
    "            torch.nn.Linear(num_hidden_3, num_hidden_4),\n",
    "            torch.nn.ReLU(),\n",
    "            # output layer\n",
    "            torch.nn.Linear(num_hidden_4, num_classes)\n",
    "        )\n",
    "\n",
    "        for m in self.modules():\n",
    "            if isinstance(m, torch.nn.Linear):\n",
    "                torch.nn.init.kaiming_uniform_(m.weight, mode='fan_in', nonlinearity='relu')\n",
    "                if m.bias is not None:\n",
    "                    m.bias.detach().zero_()\n",
    "           \n",
    "    def forward(self, x):\n",
    "        logits = self.my_network(x)\n",
    "        return logits"
   ]
  },
  {
   "cell_type": "code",
   "execution_count": 7,
   "metadata": {
    "colab": {
     "base_uri": "https://localhost:8080/",
     "height": 1000
    },
    "id": "9ppU-Sds4d3w",
    "outputId": "17108dab-2823-42da-80f3-dcc377048874"
   },
   "outputs": [
    {
     "name": "stdout",
     "output_type": "stream",
     "text": [
      "Epoch: 001/030 | Batch 0000/0210 | Loss: 2.3298\n",
      "Epoch: 001/030 | Batch 0050/0210 | Loss: 0.5838\n",
      "Epoch: 001/030 | Batch 0100/0210 | Loss: 0.4012\n",
      "Epoch: 001/030 | Batch 0150/0210 | Loss: 0.2878\n",
      "Epoch: 001/030 | Batch 0200/0210 | Loss: 0.2138\n",
      "Epoch: 001/030 | Train: 90.78% | Validation: 92.20%\n",
      "Time elapsed: 0.05 min\n",
      "Epoch: 002/030 | Batch 0000/0210 | Loss: 0.3131\n",
      "Epoch: 002/030 | Batch 0050/0210 | Loss: 0.1784\n",
      "Epoch: 002/030 | Batch 0100/0210 | Loss: 0.1214\n",
      "Epoch: 002/030 | Batch 0150/0210 | Loss: 0.1502\n",
      "Epoch: 002/030 | Batch 0200/0210 | Loss: 0.1010\n",
      "Epoch: 002/030 | Train: 95.92% | Validation: 96.83%\n",
      "Time elapsed: 0.11 min\n",
      "Epoch: 003/030 | Batch 0000/0210 | Loss: 0.1363\n",
      "Epoch: 003/030 | Batch 0050/0210 | Loss: 0.0982\n",
      "Epoch: 003/030 | Batch 0100/0210 | Loss: 0.1485\n",
      "Epoch: 003/030 | Batch 0150/0210 | Loss: 0.1356\n",
      "Epoch: 003/030 | Batch 0200/0210 | Loss: 0.1350\n",
      "Epoch: 003/030 | Train: 96.67% | Validation: 96.95%\n",
      "Time elapsed: 0.16 min\n",
      "Epoch: 004/030 | Batch 0000/0210 | Loss: 0.0557\n",
      "Epoch: 004/030 | Batch 0050/0210 | Loss: 0.0690\n",
      "Epoch: 004/030 | Batch 0100/0210 | Loss: 0.1033\n",
      "Epoch: 004/030 | Batch 0150/0210 | Loss: 0.0844\n",
      "Epoch: 004/030 | Batch 0200/0210 | Loss: 0.0792\n",
      "Epoch: 004/030 | Train: 97.10% | Validation: 97.00%\n",
      "Time elapsed: 0.21 min\n",
      "Epoch: 005/030 | Batch 0000/0210 | Loss: 0.0807\n",
      "Epoch: 005/030 | Batch 0050/0210 | Loss: 0.1012\n",
      "Epoch: 005/030 | Batch 0100/0210 | Loss: 0.1089\n",
      "Epoch: 005/030 | Batch 0150/0210 | Loss: 0.1757\n",
      "Epoch: 005/030 | Batch 0200/0210 | Loss: 0.0578\n",
      "Epoch: 005/030 | Train: 97.45% | Validation: 97.08%\n",
      "Time elapsed: 0.27 min\n",
      "Epoch: 006/030 | Batch 0000/0210 | Loss: 0.0704\n",
      "Epoch: 006/030 | Batch 0050/0210 | Loss: 0.0745\n",
      "Epoch: 006/030 | Batch 0100/0210 | Loss: 0.0586\n",
      "Epoch: 006/030 | Batch 0150/0210 | Loss: 0.1034\n",
      "Epoch: 006/030 | Batch 0200/0210 | Loss: 0.0768\n",
      "Epoch: 006/030 | Train: 98.27% | Validation: 97.43%\n",
      "Time elapsed: 0.32 min\n",
      "Epoch: 007/030 | Batch 0000/0210 | Loss: 0.0359\n",
      "Epoch: 007/030 | Batch 0050/0210 | Loss: 0.0259\n",
      "Epoch: 007/030 | Batch 0100/0210 | Loss: 0.0227\n",
      "Epoch: 007/030 | Batch 0150/0210 | Loss: 0.0615\n",
      "Epoch: 007/030 | Batch 0200/0210 | Loss: 0.0710\n",
      "Epoch: 007/030 | Train: 98.55% | Validation: 97.62%\n",
      "Time elapsed: 0.38 min\n",
      "Epoch: 008/030 | Batch 0000/0210 | Loss: 0.0377\n",
      "Epoch: 008/030 | Batch 0050/0210 | Loss: 0.0662\n",
      "Epoch: 008/030 | Batch 0100/0210 | Loss: 0.0516\n",
      "Epoch: 008/030 | Batch 0150/0210 | Loss: 0.0640\n",
      "Epoch: 008/030 | Batch 0200/0210 | Loss: 0.0607\n",
      "Epoch: 008/030 | Train: 99.02% | Validation: 97.97%\n",
      "Time elapsed: 0.43 min\n",
      "Epoch: 009/030 | Batch 0000/0210 | Loss: 0.0458\n",
      "Epoch: 009/030 | Batch 0050/0210 | Loss: 0.0296\n",
      "Epoch: 009/030 | Batch 0100/0210 | Loss: 0.0548\n",
      "Epoch: 009/030 | Batch 0150/0210 | Loss: 0.0406\n",
      "Epoch: 009/030 | Batch 0200/0210 | Loss: 0.0992\n",
      "Epoch: 009/030 | Train: 99.24% | Validation: 97.93%\n",
      "Time elapsed: 0.49 min\n",
      "Epoch: 010/030 | Batch 0000/0210 | Loss: 0.0230\n",
      "Epoch: 010/030 | Batch 0050/0210 | Loss: 0.0129\n",
      "Epoch: 010/030 | Batch 0100/0210 | Loss: 0.0234\n",
      "Epoch: 010/030 | Batch 0150/0210 | Loss: 0.0170\n",
      "Epoch: 010/030 | Batch 0200/0210 | Loss: 0.0390\n",
      "Epoch: 010/030 | Train: 99.34% | Validation: 97.85%\n",
      "Time elapsed: 0.54 min\n",
      "Epoch: 011/030 | Batch 0000/0210 | Loss: 0.0222\n",
      "Epoch: 011/030 | Batch 0050/0210 | Loss: 0.0335\n",
      "Epoch: 011/030 | Batch 0100/0210 | Loss: 0.0414\n",
      "Epoch: 011/030 | Batch 0150/0210 | Loss: 0.0212\n",
      "Epoch: 011/030 | Batch 0200/0210 | Loss: 0.0615\n",
      "Epoch: 011/030 | Train: 99.43% | Validation: 98.13%\n",
      "Time elapsed: 0.59 min\n",
      "Epoch: 012/030 | Batch 0000/0210 | Loss: 0.0125\n",
      "Epoch: 012/030 | Batch 0050/0210 | Loss: 0.0171\n",
      "Epoch: 012/030 | Batch 0100/0210 | Loss: 0.0244\n",
      "Epoch: 012/030 | Batch 0150/0210 | Loss: 0.0341\n",
      "Epoch: 012/030 | Batch 0200/0210 | Loss: 0.0322\n",
      "Epoch: 012/030 | Train: 99.61% | Validation: 97.85%\n",
      "Time elapsed: 0.65 min\n",
      "Epoch: 013/030 | Batch 0000/0210 | Loss: 0.0079\n",
      "Epoch: 013/030 | Batch 0050/0210 | Loss: 0.0168\n",
      "Epoch: 013/030 | Batch 0100/0210 | Loss: 0.0223\n",
      "Epoch: 013/030 | Batch 0150/0210 | Loss: 0.0284\n",
      "Epoch: 013/030 | Batch 0200/0210 | Loss: 0.0205\n",
      "Epoch: 013/030 | Train: 99.73% | Validation: 98.18%\n",
      "Time elapsed: 0.70 min\n",
      "Epoch: 014/030 | Batch 0000/0210 | Loss: 0.0179\n",
      "Epoch: 014/030 | Batch 0050/0210 | Loss: 0.0071\n",
      "Epoch: 014/030 | Batch 0100/0210 | Loss: 0.0337\n",
      "Epoch: 014/030 | Batch 0150/0210 | Loss: 0.0154\n",
      "Epoch: 014/030 | Batch 0200/0210 | Loss: 0.0161\n",
      "Epoch: 014/030 | Train: 99.84% | Validation: 98.22%\n",
      "Time elapsed: 0.75 min\n",
      "Epoch: 015/030 | Batch 0000/0210 | Loss: 0.0072\n",
      "Epoch: 015/030 | Batch 0050/0210 | Loss: 0.0065\n",
      "Epoch: 015/030 | Batch 0100/0210 | Loss: 0.0105\n",
      "Epoch: 015/030 | Batch 0150/0210 | Loss: 0.0077\n",
      "Epoch: 015/030 | Batch 0200/0210 | Loss: 0.0282\n",
      "Epoch: 015/030 | Train: 99.88% | Validation: 98.22%\n",
      "Time elapsed: 0.81 min\n",
      "Epoch: 016/030 | Batch 0000/0210 | Loss: 0.0200\n",
      "Epoch: 016/030 | Batch 0050/0210 | Loss: 0.0103\n",
      "Epoch: 016/030 | Batch 0100/0210 | Loss: 0.0235\n",
      "Epoch: 016/030 | Batch 0150/0210 | Loss: 0.0128\n",
      "Epoch: 016/030 | Batch 0200/0210 | Loss: 0.0109\n",
      "Epoch: 016/030 | Train: 99.88% | Validation: 98.22%\n",
      "Time elapsed: 0.86 min\n",
      "Epoch: 017/030 | Batch 0000/0210 | Loss: 0.0046\n",
      "Epoch: 017/030 | Batch 0050/0210 | Loss: 0.0127\n",
      "Epoch: 017/030 | Batch 0100/0210 | Loss: 0.0062\n",
      "Epoch: 017/030 | Batch 0150/0210 | Loss: 0.0064\n",
      "Epoch: 017/030 | Batch 0200/0210 | Loss: 0.0085\n",
      "Epoch: 017/030 | Train: 99.96% | Validation: 98.27%\n",
      "Time elapsed: 0.91 min\n",
      "Epoch: 018/030 | Batch 0000/0210 | Loss: 0.0051\n",
      "Epoch: 018/030 | Batch 0050/0210 | Loss: 0.0058\n",
      "Epoch: 018/030 | Batch 0100/0210 | Loss: 0.0117\n",
      "Epoch: 018/030 | Batch 0150/0210 | Loss: 0.0086\n",
      "Epoch: 018/030 | Batch 0200/0210 | Loss: 0.0070\n",
      "Epoch: 018/030 | Train: 99.92% | Validation: 98.13%\n",
      "Time elapsed: 0.97 min\n",
      "Epoch: 019/030 | Batch 0000/0210 | Loss: 0.0048\n",
      "Epoch: 019/030 | Batch 0050/0210 | Loss: 0.0056\n",
      "Epoch: 019/030 | Batch 0100/0210 | Loss: 0.0026\n",
      "Epoch: 019/030 | Batch 0150/0210 | Loss: 0.0030\n",
      "Epoch: 019/030 | Batch 0200/0210 | Loss: 0.0055\n",
      "Epoch: 019/030 | Train: 99.96% | Validation: 98.30%\n",
      "Time elapsed: 1.02 min\n",
      "Epoch: 020/030 | Batch 0000/0210 | Loss: 0.0067\n",
      "Epoch: 020/030 | Batch 0050/0210 | Loss: 0.0017\n",
      "Epoch: 020/030 | Batch 0100/0210 | Loss: 0.0058\n",
      "Epoch: 020/030 | Batch 0150/0210 | Loss: 0.0053\n",
      "Epoch: 020/030 | Batch 0200/0210 | Loss: 0.0019\n",
      "Epoch: 020/030 | Train: 99.99% | Validation: 98.33%\n",
      "Time elapsed: 1.07 min\n",
      "Epoch: 021/030 | Batch 0000/0210 | Loss: 0.0030\n",
      "Epoch: 021/030 | Batch 0050/0210 | Loss: 0.0024\n",
      "Epoch: 021/030 | Batch 0100/0210 | Loss: 0.0025\n",
      "Epoch: 021/030 | Batch 0150/0210 | Loss: 0.0031\n",
      "Epoch: 021/030 | Batch 0200/0210 | Loss: 0.0032\n",
      "Epoch: 021/030 | Train: 99.99% | Validation: 98.33%\n",
      "Time elapsed: 1.12 min\n",
      "Epoch: 022/030 | Batch 0000/0210 | Loss: 0.0020\n",
      "Epoch: 022/030 | Batch 0050/0210 | Loss: 0.0011\n",
      "Epoch: 022/030 | Batch 0100/0210 | Loss: 0.0028\n",
      "Epoch: 022/030 | Batch 0150/0210 | Loss: 0.0022\n",
      "Epoch: 022/030 | Batch 0200/0210 | Loss: 0.0062\n",
      "Epoch: 022/030 | Train: 99.94% | Validation: 98.35%\n",
      "Time elapsed: 1.18 min\n",
      "Epoch: 023/030 | Batch 0000/0210 | Loss: 0.0052\n",
      "Epoch: 023/030 | Batch 0050/0210 | Loss: 0.0012\n",
      "Epoch: 023/030 | Batch 0100/0210 | Loss: 0.0035\n",
      "Epoch: 023/030 | Batch 0150/0210 | Loss: 0.0024\n",
      "Epoch: 023/030 | Batch 0200/0210 | Loss: 0.0045\n",
      "Epoch: 023/030 | Train: 100.00% | Validation: 98.38%\n",
      "Time elapsed: 1.23 min\n",
      "Epoch: 024/030 | Batch 0000/0210 | Loss: 0.0016\n",
      "Epoch: 024/030 | Batch 0050/0210 | Loss: 0.0013\n",
      "Epoch: 024/030 | Batch 0100/0210 | Loss: 0.0016\n",
      "Epoch: 024/030 | Batch 0150/0210 | Loss: 0.0022\n",
      "Epoch: 024/030 | Batch 0200/0210 | Loss: 0.0023\n",
      "Epoch: 024/030 | Train: 99.99% | Validation: 98.43%\n",
      "Time elapsed: 1.29 min\n",
      "Epoch: 025/030 | Batch 0000/0210 | Loss: 0.0019\n",
      "Epoch: 025/030 | Batch 0050/0210 | Loss: 0.0024\n",
      "Epoch: 025/030 | Batch 0100/0210 | Loss: 0.0043\n",
      "Epoch: 025/030 | Batch 0150/0210 | Loss: 0.0009\n",
      "Epoch: 025/030 | Batch 0200/0210 | Loss: 0.0018\n",
      "Epoch: 025/030 | Train: 100.00% | Validation: 98.30%\n",
      "Time elapsed: 1.34 min\n",
      "Epoch: 026/030 | Batch 0000/0210 | Loss: 0.0019\n",
      "Epoch: 026/030 | Batch 0050/0210 | Loss: 0.0017\n",
      "Epoch: 026/030 | Batch 0100/0210 | Loss: 0.0010\n",
      "Epoch: 026/030 | Batch 0150/0210 | Loss: 0.0017\n",
      "Epoch: 026/030 | Batch 0200/0210 | Loss: 0.0015\n",
      "Epoch: 026/030 | Train: 100.00% | Validation: 98.37%\n",
      "Time elapsed: 1.39 min\n",
      "Epoch: 027/030 | Batch 0000/0210 | Loss: 0.0017\n"
     ]
    },
    {
     "name": "stdout",
     "output_type": "stream",
     "text": [
      "Epoch: 027/030 | Batch 0050/0210 | Loss: 0.0014\n",
      "Epoch: 027/030 | Batch 0100/0210 | Loss: 0.0015\n",
      "Epoch: 027/030 | Batch 0150/0210 | Loss: 0.0026\n",
      "Epoch: 027/030 | Batch 0200/0210 | Loss: 0.0010\n",
      "Epoch: 027/030 | Train: 100.00% | Validation: 98.38%\n",
      "Time elapsed: 1.45 min\n",
      "Epoch: 028/030 | Batch 0000/0210 | Loss: 0.0013\n",
      "Epoch: 028/030 | Batch 0050/0210 | Loss: 0.0023\n",
      "Epoch: 028/030 | Batch 0100/0210 | Loss: 0.0021\n",
      "Epoch: 028/030 | Batch 0150/0210 | Loss: 0.0008\n",
      "Epoch: 028/030 | Batch 0200/0210 | Loss: 0.0016\n",
      "Epoch: 028/030 | Train: 100.00% | Validation: 98.38%\n",
      "Time elapsed: 1.50 min\n",
      "Epoch: 029/030 | Batch 0000/0210 | Loss: 0.0014\n",
      "Epoch: 029/030 | Batch 0050/0210 | Loss: 0.0010\n",
      "Epoch: 029/030 | Batch 0100/0210 | Loss: 0.0012\n",
      "Epoch: 029/030 | Batch 0150/0210 | Loss: 0.0011\n",
      "Epoch: 029/030 | Batch 0200/0210 | Loss: 0.0025\n",
      "Epoch: 029/030 | Train: 100.00% | Validation: 98.37%\n",
      "Time elapsed: 1.56 min\n",
      "Epoch: 030/030 | Batch 0000/0210 | Loss: 0.0015\n",
      "Epoch: 030/030 | Batch 0050/0210 | Loss: 0.0011\n",
      "Epoch: 030/030 | Batch 0100/0210 | Loss: 0.0017\n",
      "Epoch: 030/030 | Batch 0150/0210 | Loss: 0.0008\n",
      "Epoch: 030/030 | Batch 0200/0210 | Loss: 0.0012\n",
      "Epoch: 030/030 | Train: 100.00% | Validation: 98.47%\n",
      "Time elapsed: 1.61 min\n",
      "Total Training Time: 1.61 min\n",
      "Test accuracy 98.17%\n"
     ]
    },
    {
     "data": {
      "image/png": "[encoded data removed]",
      "text/plain": [
       "<Figure size 432x288 with 2 Axes>"
      ]
     },
     "metadata": {
      "needs_background": "light"
     },
     "output_type": "display_data"
    },
    {
     "data": {
      "image/png": "[encoded data removed]",
      "text/plain": [
       "<Figure size 432x288 with 1 Axes>"
      ]
     },
     "metadata": {
      "needs_background": "light"
     },
     "output_type": "display_data"
    }
   ],
   "source": [
    "torch.manual_seed(RANDOM_SEED)\n",
    "model = MultilayerPerceptron(num_features=28*28,\n",
    "                             num_hidden_1=NUM_HIDDEN_1,\n",
    "                             num_hidden_2=NUM_HIDDEN_2,\n",
    "                             num_hidden_3=NUM_HIDDEN_3,\n",
    "                             num_hidden_4=NUM_HIDDEN_4,\n",
    "                             #drop_proba=0.5,\n",
    "                             num_classes=10)\n",
    "model = model.to(DEVICE)\n",
    "\n",
    "optimizer = torch.optim.SGD(model.parameters(), lr=0.1)\n",
    "\n",
    "minibatch_loss_list, train_acc_list, valid_acc_list = train_model(\n",
    "    model=model,\n",
    "    num_epochs=NUM_EPOCHS,\n",
    "    train_loader=train_loader,\n",
    "    valid_loader=valid_loader,\n",
    "    test_loader=test_loader,\n",
    "    optimizer=optimizer,\n",
    "    device=DEVICE)\n",
    "\n",
    "plot_training_loss(minibatch_loss_list=minibatch_loss_list,\n",
    "                   num_epochs=NUM_EPOCHS,\n",
    "                   iter_per_epoch=len(train_loader),\n",
    "                   results_dir=None,\n",
    "                   averaging_iterations=20)\n",
    "plt.show()\n",
    "\n",
    "plot_accuracy(train_acc_list=train_acc_list,\n",
    "              valid_acc_list=valid_acc_list,\n",
    "              results_dir=None)\n",
    "plt.ylim([80, 100])\n",
    "plt.show()"
   ]
  },
  {
   "cell_type": "code",
   "execution_count": 8,
   "metadata": {
    "colab": {
     "base_uri": "https://localhost:8080/",
     "height": 373
    },
    "id": "eU5YsYpx4d3w",
    "outputId": "eeeaca9d-3707-4cbb-ae33-ba8482832ba9"
   },
   "outputs": [
    {
     "data": {
      "text/plain": [
       "<matplotlib.legend.Legend at 0x1501cc940>"
      ]
     },
     "execution_count": 8,
     "metadata": {},
     "output_type": "execute_result"
    },
    {
     "data": {
      "image/png": "[encoded data removed]",
      "text/plain": [
       "<Figure size 432x288 with 1 Axes>"
      ]
     },
     "metadata": {
      "needs_background": "light"
     },
     "output_type": "display_data"
    }
   ],
   "source": [
    "for name, param in model.named_parameters():\n",
    "    if name == 'my_network.1.weight':\n",
    "        weight_layer1 = param.data\n",
    "    if name == 'my_network.3.weight':\n",
    "        weight_layer2 = param.data\n",
    "    if name == 'my_network.5.weight':\n",
    "        weight_layer3 = param.data\n",
    "    if name == 'my_network.7.weight':\n",
    "        weight_layer4 = param.data\n",
    "        \n",
    "plt.hist(weight_layer1.flatten(), histtype='step', label = 'layer 1')\n",
    "plt.hist(weight_layer2.flatten(), histtype='step', label = 'layer 2')\n",
    "plt.hist(weight_layer3.flatten(), histtype='step', label = 'layer 3')\n",
    "plt.hist(weight_layer4.flatten(), histtype='step', label = 'layer 4')\n",
    "plt.legend(loc=\"upper right\")\n"
   ]
  },
  {
   "cell_type": "code",
   "execution_count": null,
   "metadata": {
    "id": "gckim2t74d3x"
   },
   "outputs": [],
   "source": []
  },
  {
   "cell_type": "code",
   "execution_count": null,
   "metadata": {
    "id": "iAr0H7QF4d3x"
   },
   "outputs": [],
   "source": []
  },
  {
   "cell_type": "markdown",
   "metadata": {
    "id": "FNrg_AcK4d3x"
   },
   "source": [
    "# Without weight initialization"
   ]
  },
  {
   "cell_type": "code",
   "execution_count": 18,
   "metadata": {
    "id": "ZvFml-C34d3x"
   },
   "outputs": [],
   "source": [
    "class MultilayerPerceptron(torch.nn.Module):\n",
    "\n",
    "    def __init__(self, num_features, num_classes, \n",
    "                 num_hidden_1, num_hidden_2, num_hidden_3, num_hidden_4):\n",
    "        super().__init__()\n",
    "        \n",
    "        self.my_network = torch.nn.Sequential(\n",
    "            # 1st hidden layer\n",
    "            torch.nn.Flatten(),\n",
    "            torch.nn.Linear(num_features, num_hidden_1),\n",
    "            torch.nn.ReLU(),\n",
    "            # 2nd hidden layer\n",
    "            torch.nn.Linear(num_hidden_1, num_hidden_2),\n",
    "            torch.nn.ReLU(),\n",
    "            # 3rd hidden layer\n",
    "            torch.nn.Linear(num_hidden_2, num_hidden_3),\n",
    "            torch.nn.ReLU(),\n",
    "            # 4th hidden layer\n",
    "            torch.nn.Linear(num_hidden_3, num_hidden_4),\n",
    "            torch.nn.ReLU(),\n",
    "            # output layer\n",
    "            torch.nn.Linear(num_hidden_4, num_classes)\n",
    "        )\n",
    "           \n",
    "    def forward(self, x):\n",
    "        logits = self.my_network(x)\n",
    "        return logits"
   ]
  },
  {
   "cell_type": "code",
   "execution_count": 19,
   "metadata": {
    "colab": {
     "base_uri": "https://localhost:8080/",
     "height": 1000
    },
    "id": "pavCWZSl4d3x",
    "outputId": "d767c394-9526-4547-9a09-91c970c81e8d"
   },
   "outputs": [
    {
     "name": "stdout",
     "output_type": "stream",
     "text": [
      "Epoch: 001/030 | Batch 0000/0210 | Loss: 2.3195\n",
      "Epoch: 001/030 | Batch 0050/0210 | Loss: 2.2947\n",
      "Epoch: 001/030 | Batch 0100/0210 | Loss: 2.2778\n",
      "Epoch: 001/030 | Batch 0150/0210 | Loss: 2.1740\n",
      "Epoch: 001/030 | Batch 0200/0210 | Loss: 1.8346\n",
      "Epoch: 001/030 | Train: 61.11% | Validation: 62.33%\n",
      "Time elapsed: 0.25 min\n",
      "Epoch: 002/030 | Batch 0000/0210 | Loss: 1.1587\n",
      "Epoch: 002/030 | Batch 0050/0210 | Loss: 0.7398\n",
      "Epoch: 002/030 | Batch 0100/0210 | Loss: 0.9152\n",
      "Epoch: 002/030 | Batch 0150/0210 | Loss: 0.5475\n",
      "Epoch: 002/030 | Batch 0200/0210 | Loss: 0.5490\n",
      "Epoch: 002/030 | Train: 84.99% | Validation: 87.60%\n",
      "Time elapsed: 0.51 min\n",
      "Epoch: 003/030 | Batch 0000/0210 | Loss: 0.4463\n",
      "Epoch: 003/030 | Batch 0050/0210 | Loss: 0.3174\n",
      "Epoch: 003/030 | Batch 0100/0210 | Loss: 0.3255\n",
      "Epoch: 003/030 | Batch 0150/0210 | Loss: 0.3573\n",
      "Epoch: 003/030 | Batch 0200/0210 | Loss: 0.3334\n",
      "Epoch: 003/030 | Train: 92.33% | Validation: 93.72%\n",
      "Time elapsed: 0.76 min\n",
      "Epoch: 004/030 | Batch 0000/0210 | Loss: 0.2581\n",
      "Epoch: 004/030 | Batch 0050/0210 | Loss: 0.2800\n",
      "Epoch: 004/030 | Batch 0100/0210 | Loss: 0.2741\n",
      "Epoch: 004/030 | Batch 0150/0210 | Loss: 0.2248\n",
      "Epoch: 004/030 | Batch 0200/0210 | Loss: 0.1773\n",
      "Epoch: 004/030 | Train: 94.43% | Validation: 95.62%\n",
      "Time elapsed: 1.01 min\n",
      "Epoch: 005/030 | Batch 0000/0210 | Loss: 0.2180\n",
      "Epoch: 005/030 | Batch 0050/0210 | Loss: 0.2075\n",
      "Epoch: 005/030 | Batch 0100/0210 | Loss: 0.1993\n",
      "Epoch: 005/030 | Batch 0150/0210 | Loss: 0.1817\n",
      "Epoch: 005/030 | Batch 0200/0210 | Loss: 0.1485\n",
      "Epoch: 005/030 | Train: 95.94% | Validation: 96.57%\n",
      "Time elapsed: 1.27 min\n",
      "Epoch: 006/030 | Batch 0000/0210 | Loss: 0.0934\n",
      "Epoch: 006/030 | Batch 0050/0210 | Loss: 0.0769\n",
      "Epoch: 006/030 | Batch 0100/0210 | Loss: 0.1723\n",
      "Epoch: 006/030 | Batch 0150/0210 | Loss: 0.1175\n",
      "Epoch: 006/030 | Batch 0200/0210 | Loss: 0.1306\n",
      "Epoch: 006/030 | Train: 96.88% | Validation: 96.93%\n",
      "Time elapsed: 1.53 min\n",
      "Epoch: 007/030 | Batch 0000/0210 | Loss: 0.0929\n",
      "Epoch: 007/030 | Batch 0050/0210 | Loss: 0.1476\n",
      "Epoch: 007/030 | Batch 0100/0210 | Loss: 0.0985\n",
      "Epoch: 007/030 | Batch 0150/0210 | Loss: 0.1282\n",
      "Epoch: 007/030 | Batch 0200/0210 | Loss: 0.1000\n",
      "Epoch: 007/030 | Train: 97.14% | Validation: 97.23%\n",
      "Time elapsed: 1.78 min\n",
      "Epoch: 008/030 | Batch 0000/0210 | Loss: 0.0906\n",
      "Epoch: 008/030 | Batch 0050/0210 | Loss: 0.0510\n",
      "Epoch: 008/030 | Batch 0100/0210 | Loss: 0.1354\n",
      "Epoch: 008/030 | Batch 0150/0210 | Loss: 0.0767\n",
      "Epoch: 008/030 | Batch 0200/0210 | Loss: 0.0947\n",
      "Epoch: 008/030 | Train: 97.84% | Validation: 97.30%\n",
      "Time elapsed: 2.06 min\n",
      "Epoch: 009/030 | Batch 0000/0210 | Loss: 0.0760\n",
      "Epoch: 009/030 | Batch 0050/0210 | Loss: 0.0550\n",
      "Epoch: 009/030 | Batch 0100/0210 | Loss: 0.0436\n",
      "Epoch: 009/030 | Batch 0150/0210 | Loss: 0.0512\n",
      "Epoch: 009/030 | Batch 0200/0210 | Loss: 0.1086\n",
      "Epoch: 009/030 | Train: 98.10% | Validation: 97.35%\n",
      "Time elapsed: 2.32 min\n",
      "Epoch: 010/030 | Batch 0000/0210 | Loss: 0.0764\n",
      "Epoch: 010/030 | Batch 0050/0210 | Loss: 0.0823\n",
      "Epoch: 010/030 | Batch 0100/0210 | Loss: 0.0566\n",
      "Epoch: 010/030 | Batch 0150/0210 | Loss: 0.0527\n",
      "Epoch: 010/030 | Batch 0200/0210 | Loss: 0.0381\n",
      "Epoch: 010/030 | Train: 98.55% | Validation: 97.68%\n",
      "Time elapsed: 2.58 min\n",
      "Epoch: 011/030 | Batch 0000/0210 | Loss: 0.0641\n",
      "Epoch: 011/030 | Batch 0050/0210 | Loss: 0.0308\n",
      "Epoch: 011/030 | Batch 0100/0210 | Loss: 0.0599\n",
      "Epoch: 011/030 | Batch 0150/0210 | Loss: 0.0456\n",
      "Epoch: 011/030 | Batch 0200/0210 | Loss: 0.0755\n",
      "Epoch: 011/030 | Train: 98.85% | Validation: 98.00%\n",
      "Time elapsed: 2.86 min\n",
      "Epoch: 012/030 | Batch 0000/0210 | Loss: 0.0443\n",
      "Epoch: 012/030 | Batch 0050/0210 | Loss: 0.0576\n",
      "Epoch: 012/030 | Batch 0100/0210 | Loss: 0.0416\n",
      "Epoch: 012/030 | Batch 0150/0210 | Loss: 0.0180\n",
      "Epoch: 012/030 | Batch 0200/0210 | Loss: 0.0973\n",
      "Epoch: 012/030 | Train: 98.94% | Validation: 97.77%\n",
      "Time elapsed: 3.11 min\n",
      "Epoch: 013/030 | Batch 0000/0210 | Loss: 0.0470\n",
      "Epoch: 013/030 | Batch 0050/0210 | Loss: 0.0669\n",
      "Epoch: 013/030 | Batch 0100/0210 | Loss: 0.0352\n",
      "Epoch: 013/030 | Batch 0150/0210 | Loss: 0.0300\n",
      "Epoch: 013/030 | Batch 0200/0210 | Loss: 0.0583\n",
      "Epoch: 013/030 | Train: 99.13% | Validation: 97.83%\n",
      "Time elapsed: 3.36 min\n",
      "Epoch: 014/030 | Batch 0000/0210 | Loss: 0.0191\n",
      "Epoch: 014/030 | Batch 0050/0210 | Loss: 0.0473\n",
      "Epoch: 014/030 | Batch 0100/0210 | Loss: 0.0980\n",
      "Epoch: 014/030 | Batch 0150/0210 | Loss: 0.0446\n",
      "Epoch: 014/030 | Batch 0200/0210 | Loss: 0.0360\n",
      "Epoch: 014/030 | Train: 98.85% | Validation: 97.43%\n",
      "Time elapsed: 3.62 min\n",
      "Epoch: 015/030 | Batch 0000/0210 | Loss: 0.0312\n",
      "Epoch: 015/030 | Batch 0050/0210 | Loss: 0.0184\n",
      "Epoch: 015/030 | Batch 0100/0210 | Loss: 0.0399\n",
      "Epoch: 015/030 | Batch 0150/0210 | Loss: 0.0257\n",
      "Epoch: 015/030 | Batch 0200/0210 | Loss: 0.0235\n",
      "Epoch: 015/030 | Train: 98.64% | Validation: 97.27%\n",
      "Time elapsed: 3.87 min\n",
      "Epoch: 016/030 | Batch 0000/0210 | Loss: 0.0232\n",
      "Epoch: 016/030 | Batch 0050/0210 | Loss: 0.0166\n",
      "Epoch: 016/030 | Batch 0100/0210 | Loss: 0.0110\n",
      "Epoch: 016/030 | Batch 0150/0210 | Loss: 0.0175\n",
      "Epoch: 016/030 | Batch 0200/0210 | Loss: 0.0120\n",
      "Epoch: 016/030 | Train: 99.65% | Validation: 97.98%\n",
      "Time elapsed: 4.13 min\n",
      "Epoch: 017/030 | Batch 0000/0210 | Loss: 0.0244\n",
      "Epoch: 017/030 | Batch 0050/0210 | Loss: 0.0297\n",
      "Epoch: 017/030 | Batch 0100/0210 | Loss: 0.0132\n",
      "Epoch: 017/030 | Batch 0150/0210 | Loss: 0.0091\n",
      "Epoch: 017/030 | Batch 0200/0210 | Loss: 0.0242\n",
      "Epoch: 017/030 | Train: 99.62% | Validation: 98.05%\n",
      "Time elapsed: 4.40 min\n",
      "Epoch: 018/030 | Batch 0000/0210 | Loss: 0.0170\n",
      "Epoch: 018/030 | Batch 0050/0210 | Loss: 0.0213\n",
      "Epoch: 018/030 | Batch 0100/0210 | Loss: 0.0095\n",
      "Epoch: 018/030 | Batch 0150/0210 | Loss: 0.0086\n",
      "Epoch: 018/030 | Batch 0200/0210 | Loss: 0.3331\n",
      "Epoch: 018/030 | Train: 95.99% | Validation: 96.18%\n",
      "Time elapsed: 4.66 min\n",
      "Epoch: 019/030 | Batch 0000/0210 | Loss: 0.1648\n",
      "Epoch: 019/030 | Batch 0050/0210 | Loss: 0.0832\n",
      "Epoch: 019/030 | Batch 0100/0210 | Loss: 0.0483\n",
      "Epoch: 019/030 | Batch 0150/0210 | Loss: 0.0659\n",
      "Epoch: 019/030 | Batch 0200/0210 | Loss: 0.0585\n",
      "Epoch: 019/030 | Train: 98.80% | Validation: 97.90%\n",
      "Time elapsed: 4.93 min\n",
      "Epoch: 020/030 | Batch 0000/0210 | Loss: 0.0336\n",
      "Epoch: 020/030 | Batch 0050/0210 | Loss: 0.0423\n",
      "Epoch: 020/030 | Batch 0100/0210 | Loss: 0.0359\n",
      "Epoch: 020/030 | Batch 0150/0210 | Loss: 0.0633\n",
      "Epoch: 020/030 | Batch 0200/0210 | Loss: 0.0425\n",
      "Epoch: 020/030 | Train: 99.39% | Validation: 98.07%\n",
      "Time elapsed: 5.18 min\n",
      "Epoch: 021/030 | Batch 0000/0210 | Loss: 0.0411\n",
      "Epoch: 021/030 | Batch 0050/0210 | Loss: 0.0129\n",
      "Epoch: 021/030 | Batch 0100/0210 | Loss: 0.0198\n",
      "Epoch: 021/030 | Batch 0150/0210 | Loss: 0.0127\n",
      "Epoch: 021/030 | Batch 0200/0210 | Loss: 0.0173\n",
      "Epoch: 021/030 | Train: 99.46% | Validation: 98.07%\n",
      "Time elapsed: 5.44 min\n",
      "Epoch: 022/030 | Batch 0000/0210 | Loss: 0.0202\n",
      "Epoch: 022/030 | Batch 0050/0210 | Loss: 0.0208\n",
      "Epoch: 022/030 | Batch 0100/0210 | Loss: 0.0498\n",
      "Epoch: 022/030 | Batch 0150/0210 | Loss: 0.0296\n",
      "Epoch: 022/030 | Batch 0200/0210 | Loss: 0.0645\n",
      "Epoch: 022/030 | Train: 99.67% | Validation: 98.27%\n",
      "Time elapsed: 5.69 min\n",
      "Epoch: 023/030 | Batch 0000/0210 | Loss: 0.0134\n",
      "Epoch: 023/030 | Batch 0050/0210 | Loss: 0.0087\n",
      "Epoch: 023/030 | Batch 0100/0210 | Loss: 0.0304\n",
      "Epoch: 023/030 | Batch 0150/0210 | Loss: 0.0324\n",
      "Epoch: 023/030 | Batch 0200/0210 | Loss: 0.0180\n",
      "Epoch: 023/030 | Train: 99.83% | Validation: 98.18%\n",
      "Time elapsed: 5.95 min\n",
      "Epoch: 024/030 | Batch 0000/0210 | Loss: 0.0082\n",
      "Epoch: 024/030 | Batch 0050/0210 | Loss: 0.0067\n",
      "Epoch: 024/030 | Batch 0100/0210 | Loss: 0.0067\n",
      "Epoch: 024/030 | Batch 0150/0210 | Loss: 0.0178\n",
      "Epoch: 024/030 | Batch 0200/0210 | Loss: 0.0154\n",
      "Epoch: 024/030 | Train: 99.87% | Validation: 98.13%\n",
      "Time elapsed: 6.20 min\n",
      "Epoch: 025/030 | Batch 0000/0210 | Loss: 0.0081\n",
      "Epoch: 025/030 | Batch 0050/0210 | Loss: 0.0096\n",
      "Epoch: 025/030 | Batch 0100/0210 | Loss: 0.0065\n",
      "Epoch: 025/030 | Batch 0150/0210 | Loss: 0.0082\n",
      "Epoch: 025/030 | Batch 0200/0210 | Loss: 0.0075\n",
      "Epoch: 025/030 | Train: 99.92% | Validation: 98.30%\n",
      "Time elapsed: 6.45 min\n",
      "Epoch: 026/030 | Batch 0000/0210 | Loss: 0.0049\n",
      "Epoch: 026/030 | Batch 0050/0210 | Loss: 0.0135\n",
      "Epoch: 026/030 | Batch 0100/0210 | Loss: 0.0099\n",
      "Epoch: 026/030 | Batch 0150/0210 | Loss: 0.0060\n",
      "Epoch: 026/030 | Batch 0200/0210 | Loss: 0.0059\n",
      "Epoch: 026/030 | Train: 99.95% | Validation: 98.27%\n",
      "Time elapsed: 6.72 min\n",
      "Epoch: 027/030 | Batch 0000/0210 | Loss: 0.0041\n",
      "Epoch: 027/030 | Batch 0050/0210 | Loss: 0.0051\n",
      "Epoch: 027/030 | Batch 0100/0210 | Loss: 0.0049\n",
      "Epoch: 027/030 | Batch 0150/0210 | Loss: 0.0035\n",
      "Epoch: 027/030 | Batch 0200/0210 | Loss: 0.0063\n",
      "Epoch: 027/030 | Train: 99.97% | Validation: 98.30%\n",
      "Time elapsed: 6.98 min\n",
      "Epoch: 028/030 | Batch 0000/0210 | Loss: 0.0021\n",
      "Epoch: 028/030 | Batch 0050/0210 | Loss: 0.0046\n",
      "Epoch: 028/030 | Batch 0100/0210 | Loss: 0.0045\n",
      "Epoch: 028/030 | Batch 0150/0210 | Loss: 0.0077\n",
      "Epoch: 028/030 | Batch 0200/0210 | Loss: 0.0025\n",
      "Epoch: 028/030 | Train: 99.97% | Validation: 98.32%\n",
      "Time elapsed: 7.25 min\n",
      "Epoch: 029/030 | Batch 0000/0210 | Loss: 0.0016\n",
      "Epoch: 029/030 | Batch 0050/0210 | Loss: 0.0016\n",
      "Epoch: 029/030 | Batch 0100/0210 | Loss: 0.0028\n",
      "Epoch: 029/030 | Batch 0150/0210 | Loss: 0.0026\n",
      "Epoch: 029/030 | Batch 0200/0210 | Loss: 0.0016\n",
      "Epoch: 029/030 | Train: 99.98% | Validation: 98.25%\n",
      "Time elapsed: 7.50 min\n",
      "Epoch: 030/030 | Batch 0000/0210 | Loss: 0.0019\n",
      "Epoch: 030/030 | Batch 0050/0210 | Loss: 0.0024\n",
      "Epoch: 030/030 | Batch 0100/0210 | Loss: 0.0013\n",
      "Epoch: 030/030 | Batch 0150/0210 | Loss: 0.0023\n",
      "Epoch: 030/030 | Batch 0200/0210 | Loss: 0.0037\n",
      "Epoch: 030/030 | Train: 99.99% | Validation: 98.25%\n",
      "Time elapsed: 7.75 min\n",
      "Total Training Time: 7.75 min\n",
      "Test accuracy 97.97%\n"
     ]
    },
    {
     "data": {
      "image/png": "[encoded data removed]",
      "text/plain": [
       "<Figure size 432x288 with 2 Axes>"
      ]
     },
     "metadata": {
      "needs_background": "light"
     },
     "output_type": "display_data"
    },
    {
     "data": {
      "image/png": "[encoded data removed]",
      "text/plain": [
       "<Figure size 432x288 with 1 Axes>"
      ]
     },
     "metadata": {
      "needs_background": "light"
     },
     "output_type": "display_data"
    }
   ],
   "source": [
    "torch.manual_seed(RANDOM_SEED)\n",
    "model = MultilayerPerceptron(num_features=28*28,\n",
    "                             num_hidden_1=NUM_HIDDEN_1,\n",
    "                             num_hidden_2=NUM_HIDDEN_2,\n",
    "                             num_hidden_3=NUM_HIDDEN_3,\n",
    "                             num_hidden_4=NUM_HIDDEN_4,\n",
    "                             #drop_proba=0.5,\n",
    "                             num_classes=10)\n",
    "model = model.to(DEVICE)\n",
    "\n",
    "optimizer = torch.optim.SGD(model.parameters(), lr=0.1)\n",
    "\n",
    "minibatch_loss_list, train_acc_list, valid_acc_list = train_model(\n",
    "    model=model,\n",
    "    num_epochs=NUM_EPOCHS,\n",
    "    train_loader=train_loader,\n",
    "    valid_loader=valid_loader,\n",
    "    test_loader=test_loader,\n",
    "    optimizer=optimizer,\n",
    "    device=DEVICE)\n",
    "\n",
    "plot_training_loss(minibatch_loss_list=minibatch_loss_list,\n",
    "                   num_epochs=NUM_EPOCHS,\n",
    "                   iter_per_epoch=len(train_loader),\n",
    "                   results_dir=None,\n",
    "                   averaging_iterations=20)\n",
    "plt.show()\n",
    "\n",
    "plot_accuracy(train_acc_list=train_acc_list,\n",
    "              valid_acc_list=valid_acc_list,\n",
    "              results_dir=None)\n",
    "plt.ylim([80, 100])\n",
    "plt.show()"
   ]
  },
  {
   "cell_type": "code",
   "execution_count": 20,
   "metadata": {
    "colab": {
     "base_uri": "https://localhost:8080/",
     "height": 373
    },
    "id": "NqPtaEqR4d3x",
    "outputId": "776f4aee-0bab-4b1a-bdf7-5bda611c9422"
   },
   "outputs": [
    {
     "data": {
      "text/plain": [
       "(array([1.100e+01, 1.270e+02, 1.078e+03, 3.000e+03, 2.796e+03, 8.740e+02,\n",
       "        2.640e+02, 3.700e+01, 2.000e+00, 3.000e+00]),\n",
       " array([-0.31466323, -0.23400655, -0.15334989, -0.07269321,  0.00796345,\n",
       "         0.08862013,  0.1692768 ,  0.24993347,  0.33059013,  0.4112468 ,\n",
       "         0.49190348], dtype=float32),\n",
       " <a list of 1 Patch objects>)"
      ]
     },
     "execution_count": 20,
     "metadata": {},
     "output_type": "execute_result"
    },
    {
     "data": {
      "image/png": "[encoded data removed]",
      "text/plain": [
       "<Figure size 432x288 with 1 Axes>"
      ]
     },
     "metadata": {
      "needs_background": "light"
     },
     "output_type": "display_data"
    }
   ],
   "source": [
    "for name, param in model.named_parameters():\n",
    "    if name == 'my_network.1.weight':\n",
    "        weight_layer1 = param.data\n",
    "    if name == 'my_network.3.weight':\n",
    "        weight_layer2 = param.data\n",
    "    if name == 'my_network.5.weight':\n",
    "        weight_layer3 = param.data\n",
    "    if name == 'my_network.7.weight':\n",
    "        weight_layer4 = param.data\n",
    "        \n",
    "plt.hist(weight_layer1.flatten(), histtype='step', label = 'layer 1')\n",
    "plt.hist(weight_layer2.flatten(), histtype='step', label = 'layer 2')\n",
    "plt.hist(weight_layer3.flatten(), histtype='step', label = 'layer 3')\n",
    "plt.hist(weight_layer4.flatten(), histtype='step', label = 'layer 4')\n"
   ]
  },
  {
   "cell_type": "code",
   "execution_count": null,
   "metadata": {
    "id": "b4UTgpAvC21d"
   },
   "outputs": [],
   "source": []
  },
  {
   "cell_type": "markdown",
   "metadata": {
    "id": "ETP_tyiJGSOC"
   },
   "source": [
    "## Kaiming He has a wider histogram and has more variance. "
   ]
  },
  {
   "cell_type": "markdown",
   "metadata": {
    "id": "gLjTYrBVFC4a"
   },
   "source": [
    "## The graphs of training and validation accuracies as a function of epochs for both the cases is pretty much the same except the fact that we notice a spike in case 2nd case i.e., when we dont do weight initialization."
   ]
  },
  {
   "cell_type": "markdown",
   "metadata": {
    "id": "rLO--BL1Hb9b"
   },
   "source": []
  }
 ],
 "metadata": {
  "colab": {
   "provenance": []
  },
  "kernelspec": {
   "display_name": "Python 3 (ipykernel)",
   "language": "python",
   "name": "python3"
  },
  "language_info": {
   "codemirror_mode": {
    "name": "ipython",
    "version": 3
   },
   "file_extension": ".py",
   "mimetype": "text/x-python",
   "name": "python",
   "nbconvert_exporter": "python",
   "pygments_lexer": "ipython3",
   "version": "3.9.12"
  },
  "toc": {
   "nav_menu": {},
   "number_sections": true,
   "sideBar": true,
   "skip_h1_title": false,
   "title_cell": "Table of Contents",
   "title_sidebar": "Contents",
   "toc_cell": false,
   "toc_position": {},
   "toc_section_display": true,
   "toc_window_display": false
  }
 },
 "nbformat": 4,
 "nbformat_minor": 1
}

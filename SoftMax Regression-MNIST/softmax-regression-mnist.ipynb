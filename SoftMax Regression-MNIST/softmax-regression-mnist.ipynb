{
 "cells": [
  {
   "cell_type": "markdown",
   "metadata": {},
   "source": [
    "# Softmax Regression on MNIST"
   ]
  },
  {
   "cell_type": "markdown",
   "metadata": {},
   "source": [
    "Implementation of softmax regression (multinomial logistic regression)."
   ]
  },
  {
   "cell_type": "markdown",
   "metadata": {},
   "source": [
    "## Imports"
   ]
  },
  {
   "cell_type": "code",
   "execution_count": 2,
   "metadata": {},
   "outputs": [],
   "source": [
    "import time\n",
    "from torchvision import datasets\n",
    "from torchvision import transforms\n",
    "from torch.utils.data import DataLoader\n",
    "import torch.nn.functional as F\n",
    "import torch"
   ]
  },
  {
   "cell_type": "markdown",
   "metadata": {},
   "source": [
    "## Settings and Dataset"
   ]
  },
  {
   "cell_type": "code",
   "execution_count": 3,
   "metadata": {},
   "outputs": [
    {
     "name": "stdout",
     "output_type": "stream",
     "text": [
      "Image batch dimensions: torch.Size([256, 1, 28, 28])\n",
      "Image label dimensions: torch.Size([256])\n"
     ]
    }
   ],
   "source": [
    "##########################\n",
    "### SETTINGS\n",
    "##########################\n",
    "\n",
    "# Device\n",
    "device = torch.device(\"cuda:0\" if torch.cuda.is_available() else \"cpu\")\n",
    "\n",
    "# Hyperparameters\n",
    "random_seed = 123\n",
    "learning_rate = 0.1\n",
    "num_epochs = 25\n",
    "batch_size = 256\n",
    "\n",
    "# Architecture\n",
    "num_features = 784\n",
    "num_classes = 10\n",
    "num_hidden = 120\n",
    "\n",
    "##########################\n",
    "### MNIST DATASET\n",
    "##########################\n",
    "\n",
    "train_dataset = datasets.MNIST(root='data', \n",
    "                               train=True, \n",
    "                               transform=transforms.ToTensor(),\n",
    "                               download=True)\n",
    "\n",
    "test_dataset = datasets.MNIST(root='data', \n",
    "                              train=False, \n",
    "                              transform=transforms.ToTensor())\n",
    "\n",
    "\n",
    "train_loader = DataLoader(dataset=train_dataset, \n",
    "                          batch_size=batch_size, \n",
    "                          shuffle=True)\n",
    "\n",
    "test_loader = DataLoader(dataset=test_dataset, \n",
    "                         batch_size=batch_size, \n",
    "                         shuffle=False)\n",
    "\n",
    "\n",
    "# Checking the dataset\n",
    "for images, labels in train_loader:  \n",
    "    print('Image batch dimensions:', images.shape) #NCHW\n",
    "    print('Image label dimensions:', labels.shape)\n",
    "    break"
   ]
  },
  {
   "cell_type": "code",
   "execution_count": 12,
   "metadata": {},
   "outputs": [],
   "source": [
    "##########################\n",
    "### MODEL\n",
    "##########################\n",
    "\n",
    "class SoftmaxRegression(torch.nn.Module):\n",
    "\n",
    "    def __init__(self, num_features, num_classes):\n",
    "        super(SoftmaxRegression, self).__init__()\n",
    "        self.linear = torch.nn.Linear(num_features, num_classes)\n",
    "        \n",
    "        self.linear.weight.detach().zero_()\n",
    "        self.linear.bias.detach().zero_()\n",
    "        \n",
    "    def forward(self, x):\n",
    "        logits = self.linear(x)\n",
    "        probas = F.softmax(logits, dim=1)\n",
    "        return logits, probas\n",
    "\n",
    "model = SoftmaxRegression(num_features=num_features,\n",
    "                          num_classes=num_classes)\n",
    "\n",
    "model.to(device)\n",
    "\n",
    "##########################\n",
    "### COST AND OPTIMIZER\n",
    "##########################\n",
    "\n",
    "optimizer = torch.optim.SGD(model.parameters(), lr=learning_rate)  "
   ]
  },
  {
   "cell_type": "code",
   "execution_count": 13,
   "metadata": {},
   "outputs": [
    {
     "name": "stdout",
     "output_type": "stream",
     "text": [
      "Epoch: 001/025 | Batch 000/234 | Cost: 2.3026\n",
      "Epoch: 001/025 | Batch 050/234 | Cost: 0.7819\n",
      "Epoch: 001/025 | Batch 100/234 | Cost: 0.6426\n",
      "Epoch: 001/025 | Batch 150/234 | Cost: 0.5026\n",
      "Epoch: 001/025 | Batch 200/234 | Cost: 0.4742\n",
      "Epoch: 001/025 training accuracy: 88.06%\n",
      "Time elapsed: 0.04 min\n",
      "Epoch: 002/025 | Batch 000/234 | Cost: 0.4454\n",
      "Epoch: 002/025 | Batch 050/234 | Cost: 0.4151\n",
      "Epoch: 002/025 | Batch 100/234 | Cost: 0.4108\n",
      "Epoch: 002/025 | Batch 150/234 | Cost: 0.3915\n",
      "Epoch: 002/025 | Batch 200/234 | Cost: 0.3253\n",
      "Epoch: 002/025 training accuracy: 89.39%\n",
      "Time elapsed: 0.08 min\n",
      "Epoch: 003/025 | Batch 000/234 | Cost: 0.3777\n",
      "Epoch: 003/025 | Batch 050/234 | Cost: 0.3984\n",
      "Epoch: 003/025 | Batch 100/234 | Cost: 0.3044\n",
      "Epoch: 003/025 | Batch 150/234 | Cost: 0.3907\n",
      "Epoch: 003/025 | Batch 200/234 | Cost: 0.4255\n",
      "Epoch: 003/025 training accuracy: 89.85%\n",
      "Time elapsed: 0.11 min\n",
      "Epoch: 004/025 | Batch 000/234 | Cost: 0.3918\n",
      "Epoch: 004/025 | Batch 050/234 | Cost: 0.3700\n",
      "Epoch: 004/025 | Batch 100/234 | Cost: 0.3785\n",
      "Epoch: 004/025 | Batch 150/234 | Cost: 0.3430\n",
      "Epoch: 004/025 | Batch 200/234 | Cost: 0.4021\n",
      "Epoch: 004/025 training accuracy: 90.44%\n",
      "Time elapsed: 0.15 min\n",
      "Epoch: 005/025 | Batch 000/234 | Cost: 0.4425\n",
      "Epoch: 005/025 | Batch 050/234 | Cost: 0.3336\n",
      "Epoch: 005/025 | Batch 100/234 | Cost: 0.3373\n",
      "Epoch: 005/025 | Batch 150/234 | Cost: 0.3553\n",
      "Epoch: 005/025 | Batch 200/234 | Cost: 0.3592\n",
      "Epoch: 005/025 training accuracy: 90.66%\n",
      "Time elapsed: 0.19 min\n",
      "Epoch: 006/025 | Batch 000/234 | Cost: 0.2577\n",
      "Epoch: 006/025 | Batch 050/234 | Cost: 0.2960\n",
      "Epoch: 006/025 | Batch 100/234 | Cost: 0.3559\n",
      "Epoch: 006/025 | Batch 150/234 | Cost: 0.4152\n",
      "Epoch: 006/025 | Batch 200/234 | Cost: 0.3933\n",
      "Epoch: 006/025 training accuracy: 90.86%\n",
      "Time elapsed: 0.23 min\n",
      "Epoch: 007/025 | Batch 000/234 | Cost: 0.4181\n",
      "Epoch: 007/025 | Batch 050/234 | Cost: 0.3631\n",
      "Epoch: 007/025 | Batch 100/234 | Cost: 0.2895\n",
      "Epoch: 007/025 | Batch 150/234 | Cost: 0.2856\n",
      "Epoch: 007/025 | Batch 200/234 | Cost: 0.3722\n",
      "Epoch: 007/025 training accuracy: 90.98%\n",
      "Time elapsed: 0.27 min\n",
      "Epoch: 008/025 | Batch 000/234 | Cost: 0.2987\n",
      "Epoch: 008/025 | Batch 050/234 | Cost: 0.3676\n",
      "Epoch: 008/025 | Batch 100/234 | Cost: 0.3235\n",
      "Epoch: 008/025 | Batch 150/234 | Cost: 0.3040\n",
      "Epoch: 008/025 | Batch 200/234 | Cost: 0.3496\n",
      "Epoch: 008/025 training accuracy: 91.19%\n",
      "Time elapsed: 0.30 min\n",
      "Epoch: 009/025 | Batch 000/234 | Cost: 0.3250\n",
      "Epoch: 009/025 | Batch 050/234 | Cost: 0.2833\n",
      "Epoch: 009/025 | Batch 100/234 | Cost: 0.3577\n",
      "Epoch: 009/025 | Batch 150/234 | Cost: 0.3016\n",
      "Epoch: 009/025 | Batch 200/234 | Cost: 0.3249\n",
      "Epoch: 009/025 training accuracy: 91.29%\n",
      "Time elapsed: 0.34 min\n",
      "Epoch: 010/025 | Batch 000/234 | Cost: 0.2418\n",
      "Epoch: 010/025 | Batch 050/234 | Cost: 0.2353\n",
      "Epoch: 010/025 | Batch 100/234 | Cost: 0.3880\n",
      "Epoch: 010/025 | Batch 150/234 | Cost: 0.3211\n",
      "Epoch: 010/025 | Batch 200/234 | Cost: 0.2209\n",
      "Epoch: 010/025 training accuracy: 91.47%\n",
      "Time elapsed: 0.38 min\n",
      "Epoch: 011/025 | Batch 000/234 | Cost: 0.4104\n",
      "Epoch: 011/025 | Batch 050/234 | Cost: 0.3203\n",
      "Epoch: 011/025 | Batch 100/234 | Cost: 0.2512\n",
      "Epoch: 011/025 | Batch 150/234 | Cost: 0.2505\n",
      "Epoch: 011/025 | Batch 200/234 | Cost: 0.3109\n",
      "Epoch: 011/025 training accuracy: 91.45%\n",
      "Time elapsed: 0.42 min\n",
      "Epoch: 012/025 | Batch 000/234 | Cost: 0.3217\n",
      "Epoch: 012/025 | Batch 050/234 | Cost: 0.3194\n",
      "Epoch: 012/025 | Batch 100/234 | Cost: 0.2443\n",
      "Epoch: 012/025 | Batch 150/234 | Cost: 0.3304\n",
      "Epoch: 012/025 | Batch 200/234 | Cost: 0.3713\n",
      "Epoch: 012/025 training accuracy: 91.57%\n",
      "Time elapsed: 0.46 min\n",
      "Epoch: 013/025 | Batch 000/234 | Cost: 0.3790\n",
      "Epoch: 013/025 | Batch 050/234 | Cost: 0.1943\n",
      "Epoch: 013/025 | Batch 100/234 | Cost: 0.3346\n",
      "Epoch: 013/025 | Batch 150/234 | Cost: 0.2826\n",
      "Epoch: 013/025 | Batch 200/234 | Cost: 0.2714\n",
      "Epoch: 013/025 training accuracy: 91.76%\n",
      "Time elapsed: 0.49 min\n",
      "Epoch: 014/025 | Batch 000/234 | Cost: 0.2273\n",
      "Epoch: 014/025 | Batch 050/234 | Cost: 0.2728\n",
      "Epoch: 014/025 | Batch 100/234 | Cost: 0.2719\n",
      "Epoch: 014/025 | Batch 150/234 | Cost: 0.3284\n",
      "Epoch: 014/025 | Batch 200/234 | Cost: 0.3133\n",
      "Epoch: 014/025 training accuracy: 91.68%\n",
      "Time elapsed: 0.53 min\n",
      "Epoch: 015/025 | Batch 000/234 | Cost: 0.3457\n",
      "Epoch: 015/025 | Batch 050/234 | Cost: 0.2756\n",
      "Epoch: 015/025 | Batch 100/234 | Cost: 0.3718\n",
      "Epoch: 015/025 | Batch 150/234 | Cost: 0.2482\n",
      "Epoch: 015/025 | Batch 200/234 | Cost: 0.2776\n",
      "Epoch: 015/025 training accuracy: 91.85%\n",
      "Time elapsed: 0.57 min\n",
      "Epoch: 016/025 | Batch 000/234 | Cost: 0.2816\n",
      "Epoch: 016/025 | Batch 050/234 | Cost: 0.2321\n",
      "Epoch: 016/025 | Batch 100/234 | Cost: 0.2418\n",
      "Epoch: 016/025 | Batch 150/234 | Cost: 0.3034\n",
      "Epoch: 016/025 | Batch 200/234 | Cost: 0.3143\n",
      "Epoch: 016/025 training accuracy: 91.91%\n",
      "Time elapsed: 0.61 min\n",
      "Epoch: 017/025 | Batch 000/234 | Cost: 0.2878\n",
      "Epoch: 017/025 | Batch 050/234 | Cost: 0.2786\n",
      "Epoch: 017/025 | Batch 100/234 | Cost: 0.2328\n",
      "Epoch: 017/025 | Batch 150/234 | Cost: 0.2208\n",
      "Epoch: 017/025 | Batch 200/234 | Cost: 0.3599\n",
      "Epoch: 017/025 training accuracy: 91.91%\n",
      "Time elapsed: 0.65 min\n",
      "Epoch: 018/025 | Batch 000/234 | Cost: 0.3137\n",
      "Epoch: 018/025 | Batch 050/234 | Cost: 0.2693\n",
      "Epoch: 018/025 | Batch 100/234 | Cost: 0.2849\n",
      "Epoch: 018/025 | Batch 150/234 | Cost: 0.2797\n",
      "Epoch: 018/025 | Batch 200/234 | Cost: 0.3162\n",
      "Epoch: 018/025 training accuracy: 92.02%\n",
      "Time elapsed: 0.69 min\n",
      "Epoch: 019/025 | Batch 000/234 | Cost: 0.2254\n",
      "Epoch: 019/025 | Batch 050/234 | Cost: 0.2343\n",
      "Epoch: 019/025 | Batch 100/234 | Cost: 0.3039\n",
      "Epoch: 019/025 | Batch 150/234 | Cost: 0.2001\n",
      "Epoch: 019/025 | Batch 200/234 | Cost: 0.4330\n",
      "Epoch: 019/025 training accuracy: 92.01%\n",
      "Time elapsed: 0.72 min\n",
      "Epoch: 020/025 | Batch 000/234 | Cost: 0.3008\n",
      "Epoch: 020/025 | Batch 050/234 | Cost: 0.3512\n",
      "Epoch: 020/025 | Batch 100/234 | Cost: 0.2761\n",
      "Epoch: 020/025 | Batch 150/234 | Cost: 0.2062\n",
      "Epoch: 020/025 | Batch 200/234 | Cost: 0.3902\n",
      "Epoch: 020/025 training accuracy: 92.07%\n",
      "Time elapsed: 0.76 min\n",
      "Epoch: 021/025 | Batch 000/234 | Cost: 0.2993\n",
      "Epoch: 021/025 | Batch 050/234 | Cost: 0.2719\n",
      "Epoch: 021/025 | Batch 100/234 | Cost: 0.3122\n",
      "Epoch: 021/025 | Batch 150/234 | Cost: 0.3344\n",
      "Epoch: 021/025 | Batch 200/234 | Cost: 0.2047\n",
      "Epoch: 021/025 training accuracy: 92.03%\n",
      "Time elapsed: 0.80 min\n",
      "Epoch: 022/025 | Batch 000/234 | Cost: 0.2828\n",
      "Epoch: 022/025 | Batch 050/234 | Cost: 0.3147\n",
      "Epoch: 022/025 | Batch 100/234 | Cost: 0.2703\n",
      "Epoch: 022/025 | Batch 150/234 | Cost: 0.3160\n",
      "Epoch: 022/025 | Batch 200/234 | Cost: 0.2220\n",
      "Epoch: 022/025 training accuracy: 92.10%\n",
      "Time elapsed: 0.84 min\n",
      "Epoch: 023/025 | Batch 000/234 | Cost: 0.2534\n",
      "Epoch: 023/025 | Batch 050/234 | Cost: 0.2710\n",
      "Epoch: 023/025 | Batch 100/234 | Cost: 0.2444\n",
      "Epoch: 023/025 | Batch 150/234 | Cost: 0.2250\n",
      "Epoch: 023/025 | Batch 200/234 | Cost: 0.3008\n",
      "Epoch: 023/025 training accuracy: 92.19%\n",
      "Time elapsed: 0.88 min\n",
      "Epoch: 024/025 | Batch 000/234 | Cost: 0.2798\n",
      "Epoch: 024/025 | Batch 050/234 | Cost: 0.3368\n",
      "Epoch: 024/025 | Batch 100/234 | Cost: 0.3354\n",
      "Epoch: 024/025 | Batch 150/234 | Cost: 0.2783\n",
      "Epoch: 024/025 | Batch 200/234 | Cost: 0.4267\n",
      "Epoch: 024/025 training accuracy: 92.17%\n",
      "Time elapsed: 0.91 min\n",
      "Epoch: 025/025 | Batch 000/234 | Cost: 0.3317\n",
      "Epoch: 025/025 | Batch 050/234 | Cost: 0.2725\n",
      "Epoch: 025/025 | Batch 100/234 | Cost: 0.1489\n",
      "Epoch: 025/025 | Batch 150/234 | Cost: 0.2379\n",
      "Epoch: 025/025 | Batch 200/234 | Cost: 0.2635\n",
      "Epoch: 025/025 training accuracy: 92.25%\n",
      "Time elapsed: 0.95 min\n"
     ]
    }
   ],
   "source": [
    "# Manual seed for deterministic data loader\n",
    "torch.manual_seed(random_seed)\n",
    "\n",
    "\n",
    "def compute_accuracy(model, data_loader):\n",
    "    correct_pred, num_examples = 0, 0\n",
    "    \n",
    "    for features, targets in data_loader:\n",
    "        features = features.view(-1, 28*28).to(device)\n",
    "        targets = targets.to(device)\n",
    "        logits, probas = model(features)\n",
    "        _, predicted_labels = torch.max(probas, 1)\n",
    "        num_examples += targets.size(0)\n",
    "        correct_pred += (predicted_labels == targets).sum()\n",
    "        \n",
    "    return correct_pred.float() / num_examples * 100\n",
    "    \n",
    "\n",
    "start_time = time.time()\n",
    "epoch_costs = []\n",
    "for epoch in range(num_epochs):\n",
    "    avg_cost = 0.\n",
    "    for batch_idx, (features, targets) in enumerate(train_loader):\n",
    "        \n",
    "        features = features.view(-1, 28*28).to(device)\n",
    "        targets = targets.to(device)\n",
    "            \n",
    "        ### FORWARD AND BACK PROP\n",
    "        logits, probas = model(features)\n",
    "        \n",
    "        # note that the PyTorch implementation of\n",
    "        # CrossEntropyLoss works with logits, not\n",
    "        # probabilities\n",
    "        cost = F.cross_entropy(logits, targets)\n",
    "        optimizer.zero_grad()\n",
    "        cost.backward()\n",
    "        avg_cost += cost\n",
    "        \n",
    "        ### UPDATE MODEL PARAMETERS\n",
    "        optimizer.step()\n",
    "        \n",
    "        ### LOGGING\n",
    "        if not batch_idx % 50:\n",
    "            print ('Epoch: %03d/%03d | Batch %03d/%03d | Cost: %.4f' \n",
    "                   %(epoch+1, num_epochs, batch_idx, \n",
    "                     len(train_dataset)//batch_size, cost))\n",
    "            \n",
    "    with torch.set_grad_enabled(False):\n",
    "        avg_cost = avg_cost/len(train_dataset)\n",
    "        epoch_costs.append(avg_cost)\n",
    "        print('Epoch: %03d/%03d training accuracy: %.2f%%' % (\n",
    "              epoch+1, num_epochs, \n",
    "              compute_accuracy(model, train_loader)))\n",
    "        print('Time elapsed: %.2f min' % ((time.time() - start_time)/60))"
   ]
  },
  {
   "cell_type": "code",
   "execution_count": 15,
   "metadata": {},
   "outputs": [
    {
     "data": {
      "image/png": "[encoded data removed]",
      "text/plain": [
       "<Figure size 432x288 with 1 Axes>"
      ]
     },
     "metadata": {
      "needs_background": "light"
     },
     "output_type": "display_data"
    }
   ],
   "source": [
    "%matplotlib inline\n",
    "import matplotlib\n",
    "import matplotlib.pyplot as plt\n",
    "\n",
    "\n",
    "plt.plot(epoch_costs)\n",
    "plt.ylabel('Avg Cross Entropy Loss\\n(approximated by averaging over minibatches)')\n",
    "plt.xlabel('Epoch')\n",
    "plt.show()"
   ]
  },
  {
   "cell_type": "code",
   "execution_count": 16,
   "metadata": {},
   "outputs": [
    {
     "name": "stdout",
     "output_type": "stream",
     "text": [
      "Test accuracy: 92.16%\n"
     ]
    }
   ],
   "source": [
    "print('Test accuracy: %.2f%%' % (compute_accuracy(model, test_loader)))"
   ]
  },
  {
   "cell_type": "code",
   "execution_count": 17,
   "metadata": {},
   "outputs": [
    {
     "data": {
      "image/png": "[encoded data removed]",
      "text/plain": [
       "<Figure size 432x288 with 4 Axes>"
      ]
     },
     "metadata": {
      "needs_background": "light"
     },
     "output_type": "display_data"
    }
   ],
   "source": [
    "for features, targets in test_loader:\n",
    "    break\n",
    "    \n",
    "fig, ax = plt.subplots(1, 4)\n",
    "for i in range(4):\n",
    "    ax[i].imshow(features[i].view(28, 28), cmap=matplotlib.cm.binary)\n",
    "\n",
    "plt.show()"
   ]
  },
  {
   "cell_type": "code",
   "execution_count": 18,
   "metadata": {},
   "outputs": [
    {
     "name": "stdout",
     "output_type": "stream",
     "text": [
      "Predicted labels tensor([7, 2, 1, 0])\n"
     ]
    }
   ],
   "source": [
    "_, predictions = model.forward(features[:4].view(-1, 28*28).to(device))\n",
    "predictions = torch.argmax(predictions, dim=1)\n",
    "print('Predicted labels', predictions)"
   ]
  },
  {
   "cell_type": "code",
   "execution_count": null,
   "metadata": {},
   "outputs": [],
   "source": []
  }
 ],
 "metadata": {
  "kernelspec": {
   "display_name": "Python 3 (ipykernel)",
   "language": "python",
   "name": "python3"
  },
  "language_info": {
   "codemirror_mode": {
    "name": "ipython",
    "version": 3
   },
   "file_extension": ".py",
   "mimetype": "text/x-python",
   "name": "python",
   "nbconvert_exporter": "python",
   "pygments_lexer": "ipython3",
   "version": "3.9.12"
  },
  "toc": {
   "nav_menu": {},
   "number_sections": true,
   "sideBar": true,
   "skip_h1_title": false,
   "title_cell": "Table of Contents",
   "title_sidebar": "Contents",
   "toc_cell": false,
   "toc_position": {},
   "toc_section_display": true,
   "toc_window_display": false
  }
 },
 "nbformat": 4,
 "nbformat_minor": 4
}
